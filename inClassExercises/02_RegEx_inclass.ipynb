{
 "cells": [
  {
   "cell_type": "code",
   "execution_count": 1,
   "metadata": {},
   "outputs": [
    {
     "name": "stdout",
     "output_type": "stream",
     "text": [
      "['To', 'be', 'or', 'not', 'to', 'be']\n",
      "To:1\n",
      "be:2\n",
      "or:1\n",
      "not:1\n",
      "to:1\n"
     ]
    },
    {
     "data": {
      "text/plain": [
       "<matplotlib.figure.Figure at 0x1f5d808a518>"
      ]
     },
     "metadata": {},
     "output_type": "display_data"
    },
    {
     "name": "stdout",
     "output_type": "stream",
     "text": [
      "['Hiking', 'is', 'dfsd', 'fun', '!', 'Hiking', 'with', 'dogs', 'is', 'more', 'fun', ':', ')']\n",
      "\n",
      "\n",
      "word_tokenizer results ... \n",
      "['Lets', 'assume', 'we', 'scrapted', 'some', 'text', 'data', 'from', 'a', 'website', 'or', 'corpus', 'Lets', 'try', 'to', 'find', 'all', 'of', 'the', 'valid', 'email', 'addresses', 'such', 'as', 'asdfal2', '@', 'als.com', ',', 'Users1', '@', 'gmail.de', 'but', 'not', 'Dariush', '@', '@', 'dasd-asasdsa.com.lo', 'nor', '@', 'someDomain.com', 'what', 'regex', 'could', 'we', 'use', '?', '!', '?', '!', '?', '!']\n",
      "\n",
      "\n",
      "re results with regex defined appropriately ... \n",
      "asdfal2@als.com\n",
      "Users1@gmail.de\n"
     ]
    }
   ],
   "source": [
    "# -*- coding: utf-8 -*-\n",
    "\"\"\"\n",
    "Created on Thu Dec 20 22:10:47 2018\n",
    "\n",
    "@author: profa\n",
    "\"\"\"\n",
    "\n",
    "## nltk examples\n",
    "import nltk\n",
    "from nltk.tokenize import word_tokenize\n",
    "\n",
    "\n",
    "text=\"To be or not to be\"\n",
    " \n",
    "tokens = [t for t in text.split()]\n",
    "print(tokens)\n",
    " \n",
    "freq = nltk.FreqDist(tokens)\n",
    " \n",
    "for key,val in freq.items():\n",
    "    print (str(key) + ':' + str(val))\n",
    "\n",
    "freq.plot(20, cumulative=False)\n",
    "\n",
    "mytext = \"Hiking is dfsd fun! Hiking with dogs is more fun :)\"\n",
    "print(word_tokenize(mytext))\n",
    "\n",
    " \n",
    "#####################################################\n",
    "#####################################################\n",
    "\n",
    "## Lets say we are unhappy with the tokenizer we are using\n",
    "## and wish to explicitly identify rules to define tokens\n",
    "## Try re  and regular expressions!!\n",
    "## https://docs.python.org/3.4/library/re.html\n",
    "\n",
    "#%%\n",
    "import re\n",
    "line = \"Lets assume we scrapted some text data from a website or corpus \\\n",
    "        Lets try to find all of the valid email addresses such as \\\n",
    "        asdfal2@als.com, Users1@gmail.de  \\\n",
    "        but not Dariush@@dasd-asasdsa.com.lo nor @someDomain.com \\\n",
    "        what regex could we use ?!?!?!\"\n",
    "        \n",
    "print(\"\\n\\nword_tokenizer results ... \")\n",
    "print(word_tokenize(line))\n",
    "print(\"\\n\\nre results with regex defined appropriately ... \")\n",
    "        \n",
    "match = re.findall(r'[\\w\\.-]+@[\\w\\.-]+', line)\n",
    "for i in match:\n",
    "    print(i)\n",
    "#%% \n",
    "## In-Class Exercise\n",
    "## https://docs.python.org/3.4/library/re.html \n",
    "##############################################\n",
    "##############################################    \n",
    "##############################################\n",
    "\n",
    "## Use re to find tokens within a string of the following form.\n",
    "## Test on input strings to confirm correctness.\n",
    "## State Any Assumptions you may make.\n",
    "## 1) Dollar Amounts\n",
    "## 2) U.S. phone numbers\n",
    "## 3) Websites \n",
    "##\n",
    "##\n",
    "##\n",
    "    "
   ]
  },
  {
   "cell_type": "code",
   "execution_count": null,
   "metadata": {},
   "outputs": [],
   "source": []
  }
 ],
 "metadata": {
  "kernelspec": {
   "display_name": "Python 3",
   "language": "python",
   "name": "python3"
  },
  "language_info": {
   "codemirror_mode": {
    "name": "ipython",
    "version": 3
   },
   "file_extension": ".py",
   "mimetype": "text/x-python",
   "name": "python",
   "nbconvert_exporter": "python",
   "pygments_lexer": "ipython3",
   "version": "3.6.4"
  }
 },
 "nbformat": 4,
 "nbformat_minor": 2
}
